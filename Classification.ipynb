{
 "cells": [
  {
   "cell_type": "markdown",
   "id": "921124df",
   "metadata": {},
   "source": [
    "# Prediction of potential risk of coronary heart disease"
   ]
  },
  {
   "cell_type": "code",
   "execution_count": 134,
   "id": "5465973c",
   "metadata": {},
   "outputs": [
    {
     "name": "stdout",
     "output_type": "stream",
     "text": [
      "root\n",
      " |-- id: integer (nullable = true)\n",
      " |-- age: integer (nullable = true)\n",
      " |-- education: double (nullable = true)\n",
      " |-- sex: string (nullable = true)\n",
      " |-- is_smoking: string (nullable = true)\n",
      " |-- cigsPerDay: double (nullable = true)\n",
      " |-- BPMeds: double (nullable = true)\n",
      " |-- prevalentStroke: integer (nullable = true)\n",
      " |-- prevalentHyp: integer (nullable = true)\n",
      " |-- diabetes: integer (nullable = true)\n",
      " |-- totChol: double (nullable = true)\n",
      " |-- sysBP: double (nullable = true)\n",
      " |-- diaBP: double (nullable = true)\n",
      " |-- BMI: double (nullable = true)\n",
      " |-- heartRate: double (nullable = true)\n",
      " |-- glucose: double (nullable = true)\n",
      " |-- TenYearCHD: integer (nullable = true)\n",
      "\n"
     ]
    }
   ],
   "source": [
    "from pyspark import Row\n",
    "\n",
    "from pyspark.sql import SparkSession\n",
    "from pyspark.sql.functions import corr\n",
    "\n",
    "from pyspark.ml.feature import StringIndexer, VectorAssembler\n",
    "from pyspark.ml.classification import LogisticRegression, DecisionTreeClassifier,\\\n",
    "                                      RandomForestClassifier, GBTClassifier\n",
    "from pyspark.ml.evaluation import BinaryClassificationEvaluator, MulticlassClassificationEvaluator\n",
    "\n",
    "spark = SparkSession.builder.appName(\"heart_disease\").getOrCreate()\n",
    "\n",
    "df = spark.read.csv(path=\"data_cardiovascular_risk.csv\", inferSchema=True, header=True)\n",
    "\n",
    "df.printSchema()"
   ]
  },
  {
   "cell_type": "markdown",
   "id": "80a73717",
   "metadata": {},
   "source": [
    "### Count rows before drop null rows"
   ]
  },
  {
   "cell_type": "code",
   "execution_count": 135,
   "id": "8dbe2a46",
   "metadata": {},
   "outputs": [
    {
     "name": "stdout",
     "output_type": "stream",
     "text": [
      "3390\n"
     ]
    }
   ],
   "source": [
    "print(df.count())"
   ]
  },
  {
   "cell_type": "code",
   "execution_count": 136,
   "id": "4a918822",
   "metadata": {},
   "outputs": [],
   "source": [
    "droped = df.dropna()"
   ]
  },
  {
   "cell_type": "markdown",
   "id": "408b0909",
   "metadata": {},
   "source": [
    "### Count rows after drop null rows"
   ]
  },
  {
   "cell_type": "code",
   "execution_count": 137,
   "id": "fefd142d",
   "metadata": {},
   "outputs": [
    {
     "name": "stdout",
     "output_type": "stream",
     "text": [
      "2927\n"
     ]
    }
   ],
   "source": [
    "print(droped.count())"
   ]
  },
  {
   "cell_type": "markdown",
   "id": "7826d0ee",
   "metadata": {},
   "source": [
    "### Replace categorical columns with numeric columns"
   ]
  },
  {
   "cell_type": "code",
   "execution_count": 138,
   "id": "8cd604b9",
   "metadata": {},
   "outputs": [
    {
     "name": "stdout",
     "output_type": "stream",
     "text": [
      "+---+----------+-------+--------------+\n",
      "|sex|is_smoking|sex_cat|is_smoking_cat|\n",
      "+---+----------+-------+--------------+\n",
      "|  M|        NO|    1.0|           0.0|\n",
      "|  F|       YES|    0.0|           1.0|\n",
      "|  M|       YES|    1.0|           1.0|\n",
      "|  F|       YES|    0.0|           1.0|\n",
      "|  F|        NO|    0.0|           0.0|\n",
      "|  M|        NO|    1.0|           0.0|\n",
      "|  M|       YES|    1.0|           1.0|\n",
      "|  F|        NO|    0.0|           0.0|\n",
      "|  F|        NO|    0.0|           0.0|\n",
      "|  M|       YES|    1.0|           1.0|\n",
      "+---+----------+-------+--------------+\n",
      "only showing top 10 rows\n",
      "\n"
     ]
    }
   ],
   "source": [
    "indexer = StringIndexer(inputCols=['sex', 'is_smoking'], outputCols=['sex_cat', 'is_smoking_cat'])\n",
    "indexed = indexer.fit(droped).transform(droped)\n",
    "indexed.select(['sex', 'is_smoking', 'sex_cat', 'is_smoking_cat' ]).show(10)"
   ]
  },
  {
   "cell_type": "markdown",
   "id": "467d9928",
   "metadata": {},
   "source": [
    "### Create features Vector"
   ]
  },
  {
   "cell_type": "code",
   "execution_count": 139,
   "id": "fdd960d3",
   "metadata": {},
   "outputs": [
    {
     "name": "stdout",
     "output_type": "stream",
     "text": [
      "+--------------------+----------+\n",
      "|            features|TenYearCHD|\n",
      "+--------------------+----------+\n",
      "|[36.0,4.0,0.0,0.0...|         0|\n",
      "|[46.0,1.0,10.0,0....|         0|\n",
      "|[50.0,1.0,20.0,0....|         1|\n",
      "|[64.0,1.0,30.0,0....|         0|\n",
      "|[61.0,3.0,0.0,0.0...|         1|\n",
      "|[61.0,1.0,0.0,0.0...|         0|\n",
      "|[36.0,4.0,35.0,0....|         0|\n",
      "|(15,[0,1,7,8,9,10...|         0|\n",
      "|(15,[0,1,7,8,9,10...|         0|\n",
      "|[44.0,1.0,40.0,0....|         0|\n",
      "+--------------------+----------+\n",
      "only showing top 10 rows\n",
      "\n"
     ]
    }
   ],
   "source": [
    "assembler = VectorAssembler(inputCols=['age', 'education', 'cigsPerDay', 'BPMeds', 'prevalentStroke',\n",
    "                             'prevalentHyp', 'diabetes', 'totChol', 'sysBP', 'diaBP', 'BMI',\n",
    "                             'heartRate', 'glucose', 'sex_cat', 'is_smoking_cat'],\n",
    "                            outputCol=\"features\")\n",
    "output = assembler.transform(indexed)\n",
    "final_data = output.select([\"features\", \"TenYearCHD\"])\n",
    "final_data.show(10)"
   ]
  },
  {
   "cell_type": "markdown",
   "id": "42c0fa78",
   "metadata": {},
   "source": [
    "### Divide the data to train and test data and check distribution"
   ]
  },
  {
   "cell_type": "code",
   "execution_count": 140,
   "id": "d21079bd",
   "metadata": {},
   "outputs": [
    {
     "name": "stdout",
     "output_type": "stream",
     "text": [
      "+-------+-------------------+\n",
      "|summary|         TenYearCHD|\n",
      "+-------+-------------------+\n",
      "|  count|               2061|\n",
      "|   mean|0.14798641436196022|\n",
      "| stddev|  0.355172693958569|\n",
      "|    min|                  0|\n",
      "|    max|                  1|\n",
      "+-------+-------------------+\n",
      "\n",
      "+-------+------------------+\n",
      "|summary|        TenYearCHD|\n",
      "+-------+------------------+\n",
      "|  count|               866|\n",
      "|   mean|0.1605080831408776|\n",
      "| stddev|0.3672887327830585|\n",
      "|    min|                 0|\n",
      "|    max|                 1|\n",
      "+-------+------------------+\n",
      "\n"
     ]
    }
   ],
   "source": [
    "train_data, test_data = final_data.randomSplit([0.7, 0.3])\n",
    "\n",
    "train_data.describe().show()\n",
    "\n",
    "test_data.describe().show()"
   ]
  },
  {
   "cell_type": "markdown",
   "id": "e100e98f",
   "metadata": {},
   "source": [
    "### Train data and evaluete test data"
   ]
  },
  {
   "cell_type": "code",
   "execution_count": 141,
   "id": "7ebd51a6",
   "metadata": {},
   "outputs": [],
   "source": [
    "disease_ls = LogisticRegression(featuresCol='features', labelCol=\"TenYearCHD\")\n",
    "disease_dt = DecisionTreeClassifier(featuresCol='features', labelCol=\"TenYearCHD\")\n",
    "disease_rf = RandomForestClassifier(featuresCol='features', labelCol=\"TenYearCHD\")\n",
    "disease_gb = GBTClassifier(featuresCol='features', labelCol=\"TenYearCHD\")\n",
    "\n",
    "trained_disease_model_ls = disease_ls.fit(train_data)\n",
    "trained_disease_model_dt = disease_dt.fit(train_data)\n",
    "trained_disease_model_rf = disease_rf.fit(train_data)\n",
    "trained_disease_model_gb = disease_gb.fit(train_data)\n",
    "\n",
    "prediction_results_ls = trained_disease_model_ls.transform(test_data)\n",
    "prediction_results_dt = trained_disease_model_dt.transform(test_data)\n",
    "prediction_results_rf = trained_disease_model_rf.transform(test_data)\n",
    "prediction_results_gb = trained_disease_model_gb.transform(test_data)"
   ]
  },
  {
   "cell_type": "markdown",
   "id": "da4cbc94",
   "metadata": {},
   "source": [
    "### Check accuracy (tp+tn)/total"
   ]
  },
  {
   "cell_type": "code",
   "execution_count": 155,
   "id": "d7c89d35",
   "metadata": {},
   "outputs": [
    {
     "name": "stdout",
     "output_type": "stream",
     "text": [
      "Logistic regression: 0.8498845265588915\n",
      "Decision tree: 0.815242494226328\n",
      "Random forest: 0.8418013856812933\n",
      "Gradient boosting: 0.8163972286374134\n"
     ]
    }
   ],
   "source": [
    "eval_accuracy = MulticlassClassificationEvaluator(predictionCol='prediction', labelCol='TenYearCHD',\n",
    "                                                  metricName=\"accuracy\")\n",
    "\n",
    "print('Logistic regression:', eval_accuracy.evaluate(prediction_results_ls))\n",
    "\n",
    "print('Decision tree:', eval_accuracy.evaluate(prediction_results_dt))\n",
    "\n",
    "print('Random forest:', eval_accuracy.evaluate(prediction_results_rf))\n",
    "\n",
    "print('Gradient boosting:', eval_accuracy.evaluate(prediction_results_gb))"
   ]
  },
  {
   "cell_type": "markdown",
   "id": "f14938ed",
   "metadata": {},
   "source": [
    "### The most correlation column with TenYearCHD"
   ]
  },
  {
   "cell_type": "code",
   "execution_count": 40,
   "id": "afa99a02",
   "metadata": {},
   "outputs": [
    {
     "name": "stdout",
     "output_type": "stream",
     "text": [
      "+---------------------+\n",
      "|corr(TenYearCHD, age)|\n",
      "+---------------------+\n",
      "|  0.23442278429915242|\n",
      "+---------------------+\n",
      "\n"
     ]
    }
   ],
   "source": [
    "indexed.select(corr(col1='TenYearCHD', col2='age')).show()"
   ]
  },
  {
   "cell_type": "markdown",
   "id": "b9791191",
   "metadata": {},
   "source": [
    "### Test with real data"
   ]
  },
  {
   "cell_type": "code",
   "execution_count": 156,
   "id": "f15fccb7",
   "metadata": {},
   "outputs": [],
   "source": [
    "real_data = [Row(age=29, education=4.0,cigsPerDay=0.0, BPMeds=0.0, prevalentStroke=0,\n",
    "                prevalentHyp=1, diabetes=0, totChol=250.0, sysBP=130.0, diaBP=80.0,\n",
    "                BMI=26.2, heartRate=72.0, glucose=87, sex_cat=1.0, is_smoking_cat=0.0),\n",
    "             Row(age=64, education=4.0,cigsPerDay=10.0, BPMeds=1.0, prevalentStroke=1,\n",
    "                prevalentHyp=1, diabetes=1, totChol=300.0, sysBP=146.0, diaBP=90.0,\n",
    "                BMI=37.0, heartRate=100.0, glucose=190, sex_cat=1.0, is_smoking_cat=1.0),\n",
    "             ]\n",
    "real_df = spark.createDataFrame(real_data)\n",
    "transform_real_data = assembler.transform(real_df)\n",
    "real_data = transform_real_data.select([\"features\"])\n"
   ]
  },
  {
   "cell_type": "markdown",
   "id": "6c38a958",
   "metadata": {},
   "source": [
    "### Logistic regression:"
   ]
  },
  {
   "cell_type": "code",
   "execution_count": 161,
   "id": "6e9b5522",
   "metadata": {},
   "outputs": [
    {
     "name": "stdout",
     "output_type": "stream",
     "text": [
      "+--------------------+--------------------+--------------------+----------+\n",
      "|            features|       rawPrediction|         probability|prediction|\n",
      "+--------------------+--------------------+--------------------+----------+\n",
      "|[29.0,4.0,0.0,0.0...|[3.21608907941424...|[0.96143526876676...|       0.0|\n",
      "|[64.0,4.0,10.0,1....|[-0.9842560892256...|[0.27204809929942...|       1.0|\n",
      "+--------------------+--------------------+--------------------+----------+\n",
      "\n"
     ]
    }
   ],
   "source": [
    "real_prediction_ls = trained_disease_model_ls.transform(real_data)\n",
    "real_prediction_ls.show()"
   ]
  },
  {
   "cell_type": "markdown",
   "id": "fc96838b",
   "metadata": {},
   "source": [
    "### Decision tree:"
   ]
  },
  {
   "cell_type": "code",
   "execution_count": 160,
   "id": "10e55a80",
   "metadata": {},
   "outputs": [
    {
     "name": "stdout",
     "output_type": "stream",
     "text": [
      "+--------------------+-------------+--------------------+----------+\n",
      "|            features|rawPrediction|         probability|prediction|\n",
      "+--------------------+-------------+--------------------+----------+\n",
      "|[29.0,4.0,0.0,0.0...|[1136.0,95.0]|[0.92282696994313...|       0.0|\n",
      "|[64.0,4.0,10.0,1....|  [36.0,39.0]|         [0.48,0.52]|       1.0|\n",
      "+--------------------+-------------+--------------------+----------+\n",
      "\n"
     ]
    }
   ],
   "source": [
    "real_prediction_dt = trained_disease_model_dt.transform(real_data)\n",
    "real_prediction_dt.show()"
   ]
  },
  {
   "cell_type": "markdown",
   "id": "0f831803",
   "metadata": {},
   "source": [
    "### Random forest:"
   ]
  },
  {
   "cell_type": "code",
   "execution_count": 162,
   "id": "d7e8c9a7",
   "metadata": {},
   "outputs": [
    {
     "name": "stdout",
     "output_type": "stream",
     "text": [
      "+--------------------+--------------------+--------------------+----------+\n",
      "|            features|       rawPrediction|         probability|prediction|\n",
      "+--------------------+--------------------+--------------------+----------+\n",
      "|[29.0,4.0,0.0,0.0...|[17.9889403633654...|[0.89944701816827...|       0.0|\n",
      "|[64.0,4.0,10.0,1....|[8.29358174462036...|[0.41467908723101...|       1.0|\n",
      "+--------------------+--------------------+--------------------+----------+\n",
      "\n"
     ]
    }
   ],
   "source": [
    "real_prediction_rf = trained_disease_model_rf.transform(real_data)\n",
    "real_prediction_rf.show()"
   ]
  },
  {
   "cell_type": "markdown",
   "id": "13474c5b",
   "metadata": {},
   "source": [
    "### Gradient boosting:"
   ]
  },
  {
   "cell_type": "code",
   "execution_count": 163,
   "id": "e3260da2",
   "metadata": {},
   "outputs": [
    {
     "name": "stdout",
     "output_type": "stream",
     "text": [
      "+--------------------+--------------------+--------------------+----------+\n",
      "|            features|       rawPrediction|         probability|prediction|\n",
      "+--------------------+--------------------+--------------------+----------+\n",
      "|[29.0,4.0,0.0,0.0...|[1.25570623212982...|[0.92493801351916...|       0.0|\n",
      "|[64.0,4.0,10.0,1....|[-0.0575222751893...|[0.47127054221076...|       1.0|\n",
      "+--------------------+--------------------+--------------------+----------+\n",
      "\n"
     ]
    }
   ],
   "source": [
    "real_prediction_gb = trained_disease_model_gb.transform(real_data)\n",
    "real_prediction_gb.show()"
   ]
  },
  {
   "cell_type": "code",
   "execution_count": 42,
   "id": "ccc71171",
   "metadata": {},
   "outputs": [],
   "source": [
    "spark.stop()"
   ]
  }
 ],
 "metadata": {
  "kernelspec": {
   "display_name": "Python 3 (ipykernel)",
   "language": "python",
   "name": "python3"
  },
  "language_info": {
   "codemirror_mode": {
    "name": "ipython",
    "version": 3
   },
   "file_extension": ".py",
   "mimetype": "text/x-python",
   "name": "python",
   "nbconvert_exporter": "python",
   "pygments_lexer": "ipython3",
   "version": "3.9.10"
  }
 },
 "nbformat": 4,
 "nbformat_minor": 5
}