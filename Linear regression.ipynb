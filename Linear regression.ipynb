{
 "cells": [
  {
   "cell_type": "markdown",
   "id": "921124df",
   "metadata": {},
   "source": [
    "# Prediction of potential risk of coronary heart disease"
   ]
  },
  {
   "cell_type": "code",
   "execution_count": 53,
   "id": "5465973c",
   "metadata": {},
   "outputs": [
    {
     "name": "stdout",
     "output_type": "stream",
     "text": [
      "root\n",
      " |-- id: integer (nullable = true)\n",
      " |-- age: integer (nullable = true)\n",
      " |-- education: double (nullable = true)\n",
      " |-- sex: string (nullable = true)\n",
      " |-- is_smoking: string (nullable = true)\n",
      " |-- cigsPerDay: double (nullable = true)\n",
      " |-- BPMeds: double (nullable = true)\n",
      " |-- prevalentStroke: integer (nullable = true)\n",
      " |-- prevalentHyp: integer (nullable = true)\n",
      " |-- diabetes: integer (nullable = true)\n",
      " |-- totChol: double (nullable = true)\n",
      " |-- sysBP: double (nullable = true)\n",
      " |-- diaBP: double (nullable = true)\n",
      " |-- BMI: double (nullable = true)\n",
      " |-- heartRate: double (nullable = true)\n",
      " |-- glucose: double (nullable = true)\n",
      " |-- TenYearCHD: integer (nullable = true)\n",
      "\n"
     ]
    }
   ],
   "source": [
    "from pyspark import Row\n",
    "\n",
    "from pyspark.sql import SparkSession\n",
    "from pyspark.sql.functions import corr\n",
    "\n",
    "from pyspark.ml.feature import StringIndexer, VectorAssembler\n",
    "from pyspark.ml.regression import LinearRegression\n",
    "\n",
    "spark = SparkSession.builder.appName(\"heart_disease\").getOrCreate()\n",
    "\n",
    "df = spark.read.csv(path=\"data_cardiovascular_risk.csv\", inferSchema=True, header=True)\n",
    "\n",
    "df.printSchema()"
   ]
  },
  {
   "cell_type": "markdown",
   "id": "80a73717",
   "metadata": {},
   "source": [
    "### Count rows before drop null rows"
   ]
  },
  {
   "cell_type": "code",
   "execution_count": 54,
   "id": "8dbe2a46",
   "metadata": {},
   "outputs": [
    {
     "name": "stdout",
     "output_type": "stream",
     "text": [
      "3390\n"
     ]
    }
   ],
   "source": [
    "print(df.count())"
   ]
  },
  {
   "cell_type": "code",
   "execution_count": 55,
   "id": "4a918822",
   "metadata": {},
   "outputs": [],
   "source": [
    "droped = df.dropna()"
   ]
  },
  {
   "cell_type": "markdown",
   "id": "408b0909",
   "metadata": {},
   "source": [
    "### Count rows after drop null rows"
   ]
  },
  {
   "cell_type": "code",
   "execution_count": 56,
   "id": "fefd142d",
   "metadata": {},
   "outputs": [
    {
     "name": "stdout",
     "output_type": "stream",
     "text": [
      "2927\n"
     ]
    }
   ],
   "source": [
    "print(droped.count())"
   ]
  },
  {
   "cell_type": "markdown",
   "id": "7826d0ee",
   "metadata": {},
   "source": [
    "### Replace categorical columns with numeric columns"
   ]
  },
  {
   "cell_type": "code",
   "execution_count": 58,
   "id": "8cd604b9",
   "metadata": {},
   "outputs": [
    {
     "name": "stdout",
     "output_type": "stream",
     "text": [
      "+---+----------+-------+--------------+\n",
      "|sex|is_smoking|sex_cat|is_smoking_cat|\n",
      "+---+----------+-------+--------------+\n",
      "|  M|        NO|    1.0|           0.0|\n",
      "|  F|       YES|    0.0|           1.0|\n",
      "|  M|       YES|    1.0|           1.0|\n",
      "|  F|       YES|    0.0|           1.0|\n",
      "|  F|        NO|    0.0|           0.0|\n",
      "|  M|        NO|    1.0|           0.0|\n",
      "|  M|       YES|    1.0|           1.0|\n",
      "|  F|        NO|    0.0|           0.0|\n",
      "|  F|        NO|    0.0|           0.0|\n",
      "|  M|       YES|    1.0|           1.0|\n",
      "+---+----------+-------+--------------+\n",
      "only showing top 10 rows\n",
      "\n"
     ]
    }
   ],
   "source": [
    "indexer = StringIndexer(inputCols=['sex', 'is_smoking'], outputCols=['sex_cat', 'is_smoking_cat'])\n",
    "indexed = indexer.fit(droped).transform(droped)\n",
    "indexed.select(['sex', 'is_smoking', 'sex_cat', 'is_smoking_cat' ]).show(10)"
   ]
  },
  {
   "cell_type": "markdown",
   "id": "467d9928",
   "metadata": {},
   "source": [
    "### Create features Vector"
   ]
  },
  {
   "cell_type": "code",
   "execution_count": 59,
   "id": "fdd960d3",
   "metadata": {},
   "outputs": [
    {
     "name": "stdout",
     "output_type": "stream",
     "text": [
      "+--------------------+----------+\n",
      "|            features|TenYearCHD|\n",
      "+--------------------+----------+\n",
      "|[36.0,4.0,0.0,0.0...|         0|\n",
      "|[46.0,1.0,10.0,0....|         0|\n",
      "|[50.0,1.0,20.0,0....|         1|\n",
      "|[64.0,1.0,30.0,0....|         0|\n",
      "|[61.0,3.0,0.0,0.0...|         1|\n",
      "|[61.0,1.0,0.0,0.0...|         0|\n",
      "|[36.0,4.0,35.0,0....|         0|\n",
      "|(15,[0,1,7,8,9,10...|         0|\n",
      "|(15,[0,1,7,8,9,10...|         0|\n",
      "|[44.0,1.0,40.0,0....|         0|\n",
      "+--------------------+----------+\n",
      "only showing top 10 rows\n",
      "\n"
     ]
    }
   ],
   "source": [
    "assembler = VectorAssembler(inputCols=['age', 'education', 'cigsPerDay', 'BPMeds', 'prevalentStroke',\n",
    "                             'prevalentHyp', 'diabetes', 'totChol', 'sysBP', 'diaBP', 'BMI',\n",
    "                             'heartRate', 'glucose', 'sex_cat', 'is_smoking_cat'],\n",
    "                            outputCol=\"features\")\n",
    "output = assembler.transform(indexed)\n",
    "final_data = output.select([\"features\", \"TenYearCHD\"])\n",
    "final_data.show(10)"
   ]
  },
  {
   "cell_type": "markdown",
   "id": "42c0fa78",
   "metadata": {},
   "source": [
    "### Divide the data to train and test data and check distribution"
   ]
  },
  {
   "cell_type": "code",
   "execution_count": 60,
   "id": "d21079bd",
   "metadata": {},
   "outputs": [
    {
     "name": "stdout",
     "output_type": "stream",
     "text": [
      "+-------+-------------------+\n",
      "|summary|         TenYearCHD|\n",
      "+-------+-------------------+\n",
      "|  count|               2034|\n",
      "|   mean|0.15191740412979352|\n",
      "| stddev| 0.3590290796596648|\n",
      "|    min|                  0|\n",
      "|    max|                  1|\n",
      "+-------+-------------------+\n",
      "\n",
      "+-------+------------------+\n",
      "|summary|        TenYearCHD|\n",
      "+-------+------------------+\n",
      "|  count|               893|\n",
      "|   mean|0.1511758118701008|\n",
      "| stddev|0.3584209036421307|\n",
      "|    min|                 0|\n",
      "|    max|                 1|\n",
      "+-------+------------------+\n",
      "\n"
     ]
    }
   ],
   "source": [
    "train_data, test_data = final_data.randomSplit([0.7, 0.3])\n",
    "\n",
    "train_data.describe().show()\n",
    "\n",
    "test_data.describe().show()"
   ]
  },
  {
   "cell_type": "markdown",
   "id": "e100e98f",
   "metadata": {},
   "source": [
    "### Train data and evaluete test data"
   ]
  },
  {
   "cell_type": "code",
   "execution_count": null,
   "id": "7ebd51a6",
   "metadata": {},
   "outputs": [],
   "source": [
    "disease_lr = LinearRegression(labelCol=\"TenYearCHD\")\n",
    "\n",
    "trained_disease_model = disease_lr.fit(train_data)\n",
    "\n",
    "prediction_results = trained_disease_model.evaluate(test_data)"
   ]
  },
  {
   "cell_type": "markdown",
   "id": "b5267824",
   "metadata": {},
   "source": [
    "### Check results"
   ]
  },
  {
   "cell_type": "code",
   "execution_count": 63,
   "id": "709ae9e0",
   "metadata": {},
   "outputs": [
    {
     "name": "stdout",
     "output_type": "stream",
     "text": [
      "+--------------------+\n",
      "|           residuals|\n",
      "+--------------------+\n",
      "| 0.08666855499698228|\n",
      "|  0.0900765171492714|\n",
      "|-0.00729876292817...|\n",
      "| 0.05401499782812674|\n",
      "| 0.05133043671483739|\n",
      "| 0.04138121357884006|\n",
      "| 0.06971411606445549|\n",
      "| 0.03793237749182621|\n",
      "| 0.05907279914849878|\n",
      "|0.006055685773997954|\n",
      "+--------------------+\n",
      "only showing top 10 rows\n",
      "\n"
     ]
    }
   ],
   "source": [
    "prediction_results.residuals.show(10)"
   ]
  },
  {
   "cell_type": "code",
   "execution_count": 64,
   "id": "e4a36a62",
   "metadata": {},
   "outputs": [
    {
     "data": {
      "text/plain": [
       "0.10477742909698706"
      ]
     },
     "execution_count": 64,
     "metadata": {},
     "output_type": "execute_result"
    }
   ],
   "source": [
    "prediction_results.r2"
   ]
  },
  {
   "cell_type": "code",
   "execution_count": 65,
   "id": "ceb185af",
   "metadata": {},
   "outputs": [
    {
     "data": {
      "text/plain": [
       "0.3389343143480262"
      ]
     },
     "execution_count": 65,
     "metadata": {},
     "output_type": "execute_result"
    }
   ],
   "source": [
    "prediction_results.rootMeanSquaredError"
   ]
  },
  {
   "cell_type": "markdown",
   "id": "f14938ed",
   "metadata": {},
   "source": [
    "### The most correlation column with TenYearCHD"
   ]
  },
  {
   "cell_type": "code",
   "execution_count": 66,
   "id": "afa99a02",
   "metadata": {},
   "outputs": [
    {
     "name": "stdout",
     "output_type": "stream",
     "text": [
      "+---------------------+\n",
      "|corr(TenYearCHD, age)|\n",
      "+---------------------+\n",
      "|  0.23442278429915242|\n",
      "+---------------------+\n",
      "\n"
     ]
    }
   ],
   "source": [
    "indexed.select(corr(col1='TenYearCHD', col2='age')).show()"
   ]
  },
  {
   "cell_type": "markdown",
   "id": "b9791191",
   "metadata": {},
   "source": [
    "### Test with real data"
   ]
  },
  {
   "cell_type": "code",
   "execution_count": 68,
   "id": "f15fccb7",
   "metadata": {},
   "outputs": [
    {
     "name": "stdout",
     "output_type": "stream",
     "text": [
      "+--------------------+-------------------+\n",
      "|            features|         prediction|\n",
      "+--------------------+-------------------+\n",
      "|[29.0,4.0,0.0,0.0...|0.02699482613603954|\n",
      "|[64.0,4.0,10.0,1....| 0.6910128092139037|\n",
      "+--------------------+-------------------+\n",
      "\n"
     ]
    }
   ],
   "source": [
    "real_data = [Row(age=29, education=4.0,cigsPerDay=0.0, BPMeds=0.0, prevalentStroke=0,\n",
    "                prevalentHyp=1, diabetes=0, totChol=250.0, sysBP=130.0, diaBP=80.0,\n",
    "                BMI=26.2, heartRate=72.0, glucose=87, sex_cat=1.0, is_smoking_cat=0.0),\n",
    "             Row(age=64, education=4.0,cigsPerDay=10.0, BPMeds=1.0, prevalentStroke=1,\n",
    "                prevalentHyp=1, diabetes=1, totChol=300.0, sysBP=146.0, diaBP=90.0,\n",
    "                BMI=37.0, heartRate=100.0, glucose=190, sex_cat=1.0, is_smoking_cat=1.0),\n",
    "             ]\n",
    "real_df = spark.createDataFrame(real_data)\n",
    "transform_real_data = assembler.transform(real_df)\n",
    "real_data = transform_real_data.select([\"features\"])\n",
    "\n",
    "real_prediction = trained_disease_model.transform(real_data)\n",
    "real_prediction.show()"
   ]
  },
  {
   "cell_type": "code",
   "execution_count": 69,
   "id": "ccc71171",
   "metadata": {},
   "outputs": [],
   "source": [
    "spark.stop()"
   ]
  }
 ],
 "metadata": {
  "kernelspec": {
   "display_name": "Python 3 (ipykernel)",
   "language": "python",
   "name": "python3"
  },
  "language_info": {
   "codemirror_mode": {
    "name": "ipython",
    "version": 3
   },
   "file_extension": ".py",
   "mimetype": "text/x-python",
   "name": "python",
   "nbconvert_exporter": "python",
   "pygments_lexer": "ipython3",
   "version": "3.9.10"
  }
 },
 "nbformat": 4,
 "nbformat_minor": 5
}